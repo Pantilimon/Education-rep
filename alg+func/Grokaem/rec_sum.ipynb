{
 "cells": [
  {
   "cell_type": "code",
   "execution_count": 22,
   "id": "4e76d9a8",
   "metadata": {},
   "outputs": [
    {
     "name": "stdout",
     "output_type": "stream",
     "text": [
      "22\n"
     ]
    }
   ],
   "source": [
    "k = [1, 2, 3, 4, 4, 4, 4]\n",
    "\n",
    "def S(n):\n",
    "    if n == []:\n",
    "        return 0\n",
    "    else:\n",
    "        return n[0] + S(n[1:])\n",
    "    \n",
    "print(S(k))\n"
   ]
  },
  {
   "cell_type": "code",
   "execution_count": null,
   "id": "06de4a17",
   "metadata": {},
   "outputs": [],
   "source": []
  }
 ],
 "metadata": {
  "kernelspec": {
   "display_name": "Python 3 (ipykernel)",
   "language": "python",
   "name": "python3"
  },
  "language_info": {
   "codemirror_mode": {
    "name": "ipython",
    "version": 3
   },
   "file_extension": ".py",
   "mimetype": "text/x-python",
   "name": "python",
   "nbconvert_exporter": "python",
   "pygments_lexer": "ipython3",
   "version": "3.10.9"
  }
 },
 "nbformat": 4,
 "nbformat_minor": 5
}
