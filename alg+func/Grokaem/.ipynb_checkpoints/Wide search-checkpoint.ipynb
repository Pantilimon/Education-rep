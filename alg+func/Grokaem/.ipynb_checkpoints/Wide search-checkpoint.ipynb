{
 "cells": [
  {
   "cell_type": "code",
   "execution_count": 100,
   "id": "8d24941a",
   "metadata": {},
   "outputs": [],
   "source": [
    "graph = {}\n",
    "graph[\"you\"] = [ \"alice\", \"bоb\", \"claire\"]\n",
    "graph[\"bоb\"] = [\"anuj\", \"peggy\"]\n",
    "graph[\"alice\"] = [\"peggy\"]\n",
    "graph[\"claire\"] = [\"thom\", \"jonny\"]\n",
    "graph[\"anuj\"] = []\n",
    "graph[\"peggy\"] = []\n",
    "graph[\"thom\"] = []\n",
    "graph[\"jonny\"] = []"
   ]
  },
  {
   "cell_type": "code",
   "execution_count": 45,
   "id": "2c3f14ef",
   "metadata": {},
   "outputs": [],
   "source": [
    "def seller(k):\n",
    "    if k == \"jonny\":\n",
    "        return True"
   ]
  },
  {
   "cell_type": "code",
   "execution_count": 105,
   "id": "41958533",
   "metadata": {},
   "outputs": [],
   "source": [
    "def alg(name):\n",
    "    que = deque() #Создание пустйо очереди\n",
    "    que += graph[name] #Добавим всех соседей в очередь\n",
    "    search = [] #Кого уже отследили\n",
    "    while len(que) != 0:\n",
    "        i = que.popleft()\n",
    "        if i in search:\n",
    "            continue\n",
    "        else:\n",
    "            if i == \"jonny\":\n",
    "                print( i + \" seller\")\n",
    "                return True\n",
    "            else:\n",
    "                que += graph[i]\n",
    "                search.append(i)"
   ]
  },
  {
   "cell_type": "code",
   "execution_count": 106,
   "id": "16f58258",
   "metadata": {},
   "outputs": [
    {
     "name": "stdout",
     "output_type": "stream",
     "text": [
      "jonny seller\n"
     ]
    },
    {
     "data": {
      "text/plain": [
       "True"
      ]
     },
     "execution_count": 106,
     "metadata": {},
     "output_type": "execute_result"
    }
   ],
   "source": [
    "alg(\"you\")"
   ]
  }
 ],
 "metadata": {
  "kernelspec": {
   "display_name": "Python 3 (ipykernel)",
   "language": "python",
   "name": "python3"
  },
  "language_info": {
   "codemirror_mode": {
    "name": "ipython",
    "version": 3
   },
   "file_extension": ".py",
   "mimetype": "text/x-python",
   "name": "python",
   "nbconvert_exporter": "python",
   "pygments_lexer": "ipython3",
   "version": "3.10.9"
  }
 },
 "nbformat": 4,
 "nbformat_minor": 5
}
