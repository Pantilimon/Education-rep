{
 "cells": [
  {
   "cell_type": "code",
   "execution_count": 13,
   "id": "20c0465d",
   "metadata": {},
   "outputs": [],
   "source": [
    "graph = {}\n",
    "graph[\"start\"] = {}\n",
    "graph[\"start\"][\"a\"] = 6\n",
    "graph[\"start\"][\"b\"] = 2\n",
    "graph[\"a\"] = {}\n",
    "graph[\"a\"][\"fin\"] = 1\n",
    "graph[\"b\"] = {}\n",
    "graph[\"b\"][\"a\"] = 3\n",
    "graph[\"b\"][\"fin\"] = 5\n",
    "graph[\"fin\"] = {}"
   ]
  },
  {
   "cell_type": "code",
   "execution_count": 14,
   "id": "2fbfa287",
   "metadata": {},
   "outputs": [],
   "source": [
    "inf = float(\"inf\")\n",
    "costs = {}\n",
    "costs[\"a\"] = 6\n",
    "costs[\"b\"] = 2\n",
    "costs[\"fin\"] = inf\n",
    "\n",
    "perents = {}\n",
    "perents[\"a\"] = \"start\"\n",
    "perents[\"b\"] = \"start\"\n",
    "perents[\"fin\"] = None\n",
    "\n",
    "processed = []"
   ]
  },
  {
   "cell_type": "code",
   "execution_count": 15,
   "id": "42931517",
   "metadata": {},
   "outputs": [
    {
     "name": "stdout",
     "output_type": "stream",
     "text": [
      "{'a': 3, 'fin': 5}\n"
     ]
    }
   ],
   "source": [
    "print(graph[\"b\"])"
   ]
  },
  {
   "cell_type": "code",
   "execution_count": 16,
   "id": "aa398fe0",
   "metadata": {},
   "outputs": [],
   "source": [
    "def min_cost(costs):\n",
    "    low = float(\"inf\")\n",
    "    low_node = None\n",
    "    for node in costs:\n",
    "        cost = costs[node]\n",
    "        if cost < low and node not in processed:\n",
    "            low = cost\n",
    "            low_node = node\n",
    "    return low_node"
   ]
  },
  {
   "cell_type": "code",
   "execution_count": 19,
   "id": "c0db857e",
   "metadata": {},
   "outputs": [],
   "source": [
    "node = min_cost(costs)\n",
    "while node != None:\n",
    "    cost  = costs[node]\n",
    "    neighbors = graph[node]\n",
    "    for n in neighbors.keys():\n",
    "        new_cost = cost + neighbors[n]\n",
    "        if costs[n] > new_cost:\n",
    "            costs[n] = new_cost\n",
    "            perents[n] = node\n",
    "    processed.append(node)\n",
    "    node = min_cost(costs)"
   ]
  },
  {
   "cell_type": "code",
   "execution_count": 21,
   "id": "f08cc9b2",
   "metadata": {},
   "outputs": [
    {
     "name": "stdout",
     "output_type": "stream",
     "text": [
      "6\n"
     ]
    }
   ],
   "source": [
    "print(cost)"
   ]
  }
 ],
 "metadata": {
  "kernelspec": {
   "display_name": "Python 3 (ipykernel)",
   "language": "python",
   "name": "python3"
  },
  "language_info": {
   "codemirror_mode": {
    "name": "ipython",
    "version": 3
   },
   "file_extension": ".py",
   "mimetype": "text/x-python",
   "name": "python",
   "nbconvert_exporter": "python",
   "pygments_lexer": "ipython3",
   "version": "3.10.9"
  }
 },
 "nbformat": 4,
 "nbformat_minor": 5
}
