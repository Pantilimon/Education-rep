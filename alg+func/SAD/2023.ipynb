{
 "cells": [
  {
   "cell_type": "code",
   "execution_count": 33,
   "id": "c919a833",
   "metadata": {},
   "outputs": [
    {
     "name": "stdout",
     "output_type": "stream",
     "text": [
      "5065991043773652584656299310255587879422159297139961809853626141781200515935111576168264766104646916273350816507563949765728510424628529011823615001318677649146691113926524396465494373257616766546427163239252467359066975412120506989963792225329041771433260967798058284007833089289914153583041443518481343209479563620615692\n"
     ]
    }
   ],
   "source": [
    "s = 2023\n",
    "m = []\n",
    "n = int(2022//3)\n",
    "for x in range(n):\n",
    "    c = 0\n",
    "    y = (2023 - x*3)//2\n",
    "    #if (2022 - x*3)%2 != 1:\n",
    "    #    c = 1\n",
    "    m.append((3**x)*(2**y))\n",
    "    #print(x*3 + y*2 + c)\n",
    "    \n",
    "\n",
    "print((max(m)))\n"
   ]
  },
  {
   "cell_type": "code",
   "execution_count": 37,
   "id": "0c62d56f",
   "metadata": {},
   "outputs": [
    {
     "name": "stdout",
     "output_type": "stream",
     "text": [
      "5065991043773652584656299310255587879422159297139961809853626141781200515935111576168264766104646916273350816507563949765728510424628529011823615001318677649146691113926524396465494373257616766546427163239252467359066975412120506989963792225329041771433260967798058284007833089289914153583041443518481343209479563620615692\n"
     ]
    }
   ],
   "source": [
    "print(3**(673)*2*2)"
   ]
  },
  {
   "cell_type": "code",
   "execution_count": 36,
   "id": "f3f51c45",
   "metadata": {},
   "outputs": [
    {
     "name": "stdout",
     "output_type": "stream",
     "text": [
      "2023\n"
     ]
    }
   ],
   "source": [
    "print(3*673+2+2)"
   ]
  }
 ],
 "metadata": {
  "kernelspec": {
   "display_name": "Python 3 (ipykernel)",
   "language": "python",
   "name": "python3"
  },
  "language_info": {
   "codemirror_mode": {
    "name": "ipython",
    "version": 3
   },
   "file_extension": ".py",
   "mimetype": "text/x-python",
   "name": "python",
   "nbconvert_exporter": "python",
   "pygments_lexer": "ipython3",
   "version": "3.10.9"
  }
 },
 "nbformat": 4,
 "nbformat_minor": 5
}
