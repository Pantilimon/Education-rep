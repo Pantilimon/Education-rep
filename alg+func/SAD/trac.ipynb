{
 "cells": [
  {
   "cell_type": "code",
   "execution_count": 1,
   "id": "323aa340",
   "metadata": {
    "scrolled": true
   },
   "outputs": [
    {
     "name": "stdout",
     "output_type": "stream",
     "text": [
      "3\n",
      "0 43 34\n",
      "-1 0 10\n",
      "-1 20 0\n",
      "[0.0, 43.0, 34.0]\n",
      "[2000000023, 0.0, 10.0]\n",
      "[2000000023, 20.0, 0.0]\n",
      "43.0\n",
      "[0.0, 43.0, 34.0]\n",
      "[2000000023, 0.0, 10.0]\n",
      "[2000000023, 20.0, 0.0]\n",
      "43.0\n",
      "[0.0, 43.0, 34.0]\n",
      "[2000000023, 0.0, 10.0]\n",
      "[2000000023, 20.0, 0.0]\n",
      "34.0\n"
     ]
    }
   ],
   "source": [
    "n = int(input())\n",
    "d = []\n",
    "for i in range(n):\n",
    "    d.append(list(map(float, input().split())))\n",
    "for i in range(n):\n",
    "    for j in range(n):\n",
    "        if d[i][j] == -1:\n",
    "            d[i][j] = 2000000023\n",
    "'''for i in range(n):\n",
    "    print(d[i])'''\n",
    "    \n",
    "    \n",
    "for k in range(n):\n",
    "    for t in range(n):\n",
    "        print(d[t])\n",
    "    for i in range(n):\n",
    "        for j in range(n):\n",
    "            if d[i][k] == 2000000023 and d[k][j] != 2000000023:\n",
    "                d[i][j] == max(d[i][j],d[k][j])\n",
    "            elif d[i][k] != 2000000023 and d[k][j] == 2000000023:\n",
    "                d[i][j] == max(d[i][k],d[i][j])\n",
    "            else:\n",
    "                d[i][j] = min(d[i][j], max(d[i][k],d[k][j]))\n",
    "            if i == 0 and j == 1:\n",
    "                print(d[i][j])"
   ]
  },
  {
   "cell_type": "code",
   "execution_count": null,
   "id": "fd37041c",
   "metadata": {},
   "outputs": [],
   "source": []
  }
 ],
 "metadata": {
  "kernelspec": {
   "display_name": "Python 3 (ipykernel)",
   "language": "python",
   "name": "python3"
  },
  "language_info": {
   "codemirror_mode": {
    "name": "ipython",
    "version": 3
   },
   "file_extension": ".py",
   "mimetype": "text/x-python",
   "name": "python",
   "nbconvert_exporter": "python",
   "pygments_lexer": "ipython3",
   "version": "3.10.9"
  }
 },
 "nbformat": 4,
 "nbformat_minor": 5
}
