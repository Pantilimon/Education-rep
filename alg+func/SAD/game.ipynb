{
 "cells": [
  {
   "cell_type": "code",
   "execution_count": 16,
   "id": "19ae85b0",
   "metadata": {},
   "outputs": [
    {
     "name": "stdout",
     "output_type": "stream",
     "text": [
      "5\n",
      "0 0 2 1 3\n",
      "0 0 0 0 0 "
     ]
    }
   ],
   "source": [
    "n = int(input())\n",
    "v = list(map(int, input().split())) \n",
    "d = [0]*n\n",
    "\n",
    "for k in range(n):\n",
    "    if v[k] != 0:\n",
    "        for x in range(v[k], 0 -1):\n",
    "            g = k - x\n",
    "            d[k] += 1\n",
    "            d[g] += 1\n",
    "for i in d:\n",
    "    print(i, end=' ')\n",
    "        "
   ]
  },
  {
   "cell_type": "code",
   "execution_count": null,
   "id": "8c73f0b8",
   "metadata": {},
   "outputs": [],
   "source": []
  }
 ],
 "metadata": {
  "kernelspec": {
   "display_name": "Python 3 (ipykernel)",
   "language": "python",
   "name": "python3"
  },
  "language_info": {
   "codemirror_mode": {
    "name": "ipython",
    "version": 3
   },
   "file_extension": ".py",
   "mimetype": "text/x-python",
   "name": "python",
   "nbconvert_exporter": "python",
   "pygments_lexer": "ipython3",
   "version": "3.10.9"
  }
 },
 "nbformat": 4,
 "nbformat_minor": 5
}
