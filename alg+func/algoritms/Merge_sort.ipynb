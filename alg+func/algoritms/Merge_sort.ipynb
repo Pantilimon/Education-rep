{
 "cells": [
  {
   "cell_type": "code",
   "execution_count": 1,
   "id": "5689b068",
   "metadata": {},
   "outputs": [],
   "source": [
    "def merge(left, right): # Функция слияния двух частей\n",
    "    res = []\n",
    "    i, j = 0, 0\n",
    "    while i < len(left) and j < len(right): # Здесь мы начинаем заполнять новый массив по возрастанию элементами двух начальных массивов \n",
    "        if left[i] < right[j]:\n",
    "            res.append(left[i])\n",
    "            i += 1\n",
    "        else:\n",
    "            res.append(right[j])\n",
    "            j += 1\n",
    "# Если какая-то часть дошла досрочно полность вошла в новый массив, остаток будет заполнен концом другой части (она отсортрованаи наибольшая)\n",
    "    if len(res)<len(left)+len(right):\n",
    "        while i < len(left):\n",
    "            res.append(left[i])\n",
    "            i += 1\n",
    "        while j < len(right):\n",
    "            res.append(right[j])\n",
    "            j += 1\n",
    "        return res\n",
    "\n",
    "def my_sort(A, p, r): # Здесь реализован сам алгоиртм сортировки слиянием\n",
    "    if len(A) < 2:\n",
    "        return A\n",
    "    else:\n",
    "        c = int((p+r) / 2)\n",
    "        left = my_sort(A[:c], p, c)\n",
    "        right = my_sort(A[c:], c+1, r)\n",
    "        return merge(left, right)"
   ]
  }
 ],
 "metadata": {
  "kernelspec": {
   "display_name": "Python 3 (ipykernel)",
   "language": "python",
   "name": "python3"
  },
  "language_info": {
   "codemirror_mode": {
    "name": "ipython",
    "version": 3
   },
   "file_extension": ".py",
   "mimetype": "text/x-python",
   "name": "python",
   "nbconvert_exporter": "python",
   "pygments_lexer": "ipython3",
   "version": "3.11.5"
  }
 },
 "nbformat": 4,
 "nbformat_minor": 5
}
