{
 "cells": [
  {
   "cell_type": "markdown",
   "id": "0443c6ba",
   "metadata": {},
   "source": [
    "1.2."
   ]
  },
  {
   "cell_type": "code",
   "execution_count": 4,
   "id": "48378472",
   "metadata": {},
   "outputs": [
    {
     "name": "stdout",
     "output_type": "stream",
     "text": [
      "3\n"
     ]
    }
   ],
   "source": [
    "#objects = [1, 2, 1, 5, True, False, True, 'false', [], [1,2], [1,2]]\n",
    "objects = [1, 2, 1, 2, 3]\n",
    "i=0\n",
    "while i != (len(objects)-1):\n",
    "    s = []\n",
    "    for j in range(len(objects)):\n",
    "        if objects[i] is objects[j]:\n",
    "            s.append(j)\n",
    "    if len(s) > 1:\n",
    "        s.reverse()\n",
    "        s.pop(-1)\n",
    "        for k in s:\n",
    "            objects.pop(k)\n",
    "    else:\n",
    "        i +=1\n",
    "print(len(objects))"
   ]
  },
  {
   "cell_type": "markdown",
   "id": "6a7f8480",
   "metadata": {},
   "source": [
    "1.3.1"
   ]
  },
  {
   "cell_type": "code",
   "execution_count": 7,
   "id": "d68d13d3",
   "metadata": {},
   "outputs": [
    {
     "name": "stdout",
     "output_type": "stream",
     "text": [
      "5\n"
     ]
    }
   ],
   "source": [
    "def closest_mod_5(x):\n",
    "    y=x\n",
    "    if y%5 == 0:\n",
    "        return y\n",
    "    else:\n",
    "        while y%5 != 0:\n",
    "            y += 1\n",
    "        return y\n",
    "\n",
    "\n",
    "print(closest_mod_5(x))"
   ]
  },
  {
   "cell_type": "markdown",
   "id": "2362223c",
   "metadata": {},
   "source": [
    "1.2.3"
   ]
  },
  {
   "cell_type": "code",
   "execution_count": 28,
   "id": "6dd14d07",
   "metadata": {
    "scrolled": true
   },
   "outputs": [
    {
     "name": "stdout",
     "output_type": "stream",
     "text": [
      "4 2\n",
      "6\n"
     ]
    }
   ],
   "source": [
    "n, k =  map(int, input().split())\n",
    "def C(N, K):\n",
    "    if K>N:\n",
    "        return 0\n",
    "    elif K == 0:\n",
    "        return 1\n",
    "    else:\n",
    "        return C(N-1, K) + C(N-1, K-1)\n",
    "print(C(n, k))"
   ]
  },
  {
   "cell_type": "markdown",
   "id": "81aae686",
   "metadata": {},
   "source": [
    "1.4.1"
   ]
  },
  {
   "cell_type": "code",
   "execution_count": 1,
   "id": "703ef982",
   "metadata": {},
   "outputs": [
    {
     "ename": "ValueError",
     "evalue": "invalid literal for int() with base 10: ''",
     "output_type": "error",
     "traceback": [
      "\u001b[1;31m---------------------------------------------------------------------------\u001b[0m",
      "\u001b[1;31mValueError\u001b[0m                                Traceback (most recent call last)",
      "Cell \u001b[1;32mIn[1], line 1\u001b[0m\n\u001b[1;32m----> 1\u001b[0m n \u001b[38;5;241m=\u001b[39m \u001b[38;5;28mint\u001b[39m(\u001b[38;5;28minput\u001b[39m())\n\u001b[0;32m      2\u001b[0m l \u001b[38;5;241m=\u001b[39m []\n\u001b[0;32m      3\u001b[0m \u001b[38;5;28;01mfor\u001b[39;00m i \u001b[38;5;129;01min\u001b[39;00m \u001b[38;5;28mrange\u001b[39m(n):\n",
      "\u001b[1;31mValueError\u001b[0m: invalid literal for int() with base 10: ''"
     ]
    }
   ],
   "source": [
    "n = int(input())\n",
    "l = []\n",
    "for i in range(n):\n",
    "    l.append(list(map(str, input().split())))\n",
    "#print(l)\n",
    "def getting(x, y):\n",
    "    if y in child.get(x):\n",
    "        return x\n",
    "    elif x == 'global':\n",
    "        return None\n",
    "    else:\n",
    "        return getting(perent[x], y)\n",
    "\n",
    "child = {} #Даю имя, получаю дочерний список\n",
    "perent = {} #Даю имя, получаю родителя\n",
    "child['global'] = []\n",
    "#print(child)\n",
    "for i in l:\n",
    "    if i[0] == \"add\":\n",
    "        if child[i[1]] == None:\n",
    "            child[i[1]] = []\n",
    "            child[i[1]].append(i[2])\n",
    "            perent[i[2]] = i[1]\n",
    "        else:\n",
    "            child[i[1]].append(i[2])\n",
    "            perent[i[2]] = i[1]\n",
    "    elif i[0] == \"create\":\n",
    "        if child[i[2]] == None:\n",
    "            child[i[2]] = []\n",
    "            child[i[2]].append(i[1])\n",
    "            perent[i[1]] = i[2]\n",
    "        else:\n",
    "            child[i[2]].append(i[1])\n",
    "            child[i[1]] = []\n",
    "            perent[i[1]] = i[2]\n",
    "    elif i[0] == 'get':\n",
    "        #continue\n",
    "        print(str(getting(i[1], i[2])))\n",
    "#print(child)\n",
    "#print(perent)"
   ]
  },
  {
   "cell_type": "markdown",
   "id": "55da49b2",
   "metadata": {},
   "source": [
    "1.5.1"
   ]
  },
  {
   "cell_type": "code",
   "execution_count": 81,
   "id": "57529799",
   "metadata": {},
   "outputs": [
    {
     "name": "stdout",
     "output_type": "stream",
     "text": [
      "5\n",
      "10\n"
     ]
    }
   ],
   "source": [
    "class MoneyBox:\n",
    "    def __init__(self, capacity):\n",
    "        self.capacity = int(capacity)\n",
    "        self.now = 0\n",
    "    def can_add(self, v):\n",
    "        if self.capacity - self.now >= v:\n",
    "            return True\n",
    "        else:\n",
    "            return False\n",
    "    def add(self, x):\n",
    "        if self.can_add(x):\n",
    "            self.now += x\n",
    "        \n"
   ]
  },
  {
   "cell_type": "markdown",
   "id": "bbb34824",
   "metadata": {},
   "source": [
    "1.5.2"
   ]
  },
  {
   "cell_type": "code",
   "execution_count": 29,
   "id": "1b416a8d",
   "metadata": {},
   "outputs": [],
   "source": [
    "class Buffer:\n",
    "    def __init__(self): # конструктор без аргументов\n",
    "        self.now = []\n",
    "    def add(self, *a):# добавить следующую часть последовательности\n",
    "        for u in a:\n",
    "            self.now.append(u)\n",
    "        s = 0\n",
    "        for i in self.now:\n",
    "            #print(self.now)\n",
    "            s += 1\n",
    "            #print(s)\n",
    "            if s == 5:\n",
    "                print(self.now[0]+self.now[1]+self.now[2]+self.now[3]+self.now[4])\n",
    "                del self.now[0:4]\n",
    "                self.now.pop(0)\n",
    "                s -= 5\n",
    "                #print(s)\n",
    "            else:\n",
    "                continue\n",
    "    def get_current_part(self):# вернуть сохраненные в текущий момент элементы последовательности в порядке, в котором они были  добавлены\n",
    "            print(self.now)"
   ]
  },
  {
   "cell_type": "code",
   "execution_count": 36,
   "id": "a8e54635",
   "metadata": {},
   "outputs": [],
   "source": [
    "class Buffer:\n",
    "    def __init__(self): # конструктор без аргументов\n",
    "        self.now = []\n",
    "    def add(self, *a):# добавить следующую часть последовательности\n",
    "        for u in a:\n",
    "            self.now.append(u)\n",
    "        s = 0\n",
    "        l = len(self.now)\n",
    "        for i in range(l):\n",
    "            s += 1\n",
    "            if s == 5:\n",
    "                print(self.now[0]+self.now[1]+self.now[2]+self.now[3]+self.now[4])\n",
    "                del self.now[0:4]\n",
    "                self.now.pop(0)\n",
    "                s -= 5\n",
    "                #print(s)\n",
    "            else:\n",
    "                continue\n",
    "    def get_current_part(self):# вернуть сохраненные в текущий момент элементы последовательности в порядке, в котором они были  добавлены\n",
    "            print(self.now)"
   ]
  },
  {
   "cell_type": "code",
   "execution_count": 35,
   "id": "17eff4a8",
   "metadata": {},
   "outputs": [
    {
     "name": "stdout",
     "output_type": "stream",
     "text": [
      "[1, 2, 3]\n",
      "15\n",
      "[6]\n",
      "40\n",
      "[]\n",
      "5\n",
      "5\n",
      "[1]\n"
     ]
    }
   ],
   "source": [
    "buf = Buffer()\n",
    "buf.add(1, 2, 3)\n",
    "buf.get_current_part() # вернуть [1, 2, 3]\n",
    "buf.add(4, 5, 6) # print(15) – вывод суммы первой пятерки элементов\n",
    "buf.get_current_part() # вернуть [6]\n",
    "buf.add(7, 8, 9, 10) # print(40) – вывод суммы второй пятерки элементов\n",
    "buf.get_current_part() # вернуть []\n",
    "buf.add(1, 1, 1, 1, 1, 1, 1, 1, 1, 1, 1) # print(5), print(5) – вывод сумм третьей и четвертой пятерки\n",
    "buf.get_current_part() # вернуть [1]\n"
   ]
  },
  {
   "cell_type": "markdown",
   "id": "a1667f89",
   "metadata": {},
   "source": [
    "1.6.1"
   ]
  },
  {
   "cell_type": "code",
   "execution_count": 17,
   "id": "8c08ab62",
   "metadata": {
    "scrolled": false
   },
   "outputs": [
    {
     "ename": "KeyboardInterrupt",
     "evalue": "Interrupted by user",
     "output_type": "error",
     "traceback": [
      "\u001b[1;31m---------------------------------------------------------------------------\u001b[0m",
      "\u001b[1;31mKeyboardInterrupt\u001b[0m                         Traceback (most recent call last)",
      "Cell \u001b[1;32mIn[17], line 1\u001b[0m\n\u001b[1;32m----> 1\u001b[0m n \u001b[38;5;241m=\u001b[39m \u001b[38;5;28mint\u001b[39m(\u001b[38;5;28minput\u001b[39m())\n\u001b[0;32m      2\u001b[0m d \u001b[38;5;241m=\u001b[39m {}\n\u001b[0;32m      3\u001b[0m \u001b[38;5;28;01mfor\u001b[39;00m k \u001b[38;5;129;01min\u001b[39;00m \u001b[38;5;28mrange\u001b[39m(n):\n",
      "File \u001b[1;32m~\\anaconda3\\Lib\\site-packages\\ipykernel\\kernelbase.py:1202\u001b[0m, in \u001b[0;36mKernel.raw_input\u001b[1;34m(self, prompt)\u001b[0m\n\u001b[0;32m   1200\u001b[0m     msg \u001b[38;5;241m=\u001b[39m \u001b[38;5;124m\"\u001b[39m\u001b[38;5;124mraw_input was called, but this frontend does not support input requests.\u001b[39m\u001b[38;5;124m\"\u001b[39m\n\u001b[0;32m   1201\u001b[0m     \u001b[38;5;28;01mraise\u001b[39;00m StdinNotImplementedError(msg)\n\u001b[1;32m-> 1202\u001b[0m \u001b[38;5;28;01mreturn\u001b[39;00m \u001b[38;5;28mself\u001b[39m\u001b[38;5;241m.\u001b[39m_input_request(\n\u001b[0;32m   1203\u001b[0m     \u001b[38;5;28mstr\u001b[39m(prompt),\n\u001b[0;32m   1204\u001b[0m     \u001b[38;5;28mself\u001b[39m\u001b[38;5;241m.\u001b[39m_parent_ident[\u001b[38;5;124m\"\u001b[39m\u001b[38;5;124mshell\u001b[39m\u001b[38;5;124m\"\u001b[39m],\n\u001b[0;32m   1205\u001b[0m     \u001b[38;5;28mself\u001b[39m\u001b[38;5;241m.\u001b[39mget_parent(\u001b[38;5;124m\"\u001b[39m\u001b[38;5;124mshell\u001b[39m\u001b[38;5;124m\"\u001b[39m),\n\u001b[0;32m   1206\u001b[0m     password\u001b[38;5;241m=\u001b[39m\u001b[38;5;28;01mFalse\u001b[39;00m,\n\u001b[0;32m   1207\u001b[0m )\n",
      "File \u001b[1;32m~\\anaconda3\\Lib\\site-packages\\ipykernel\\kernelbase.py:1245\u001b[0m, in \u001b[0;36mKernel._input_request\u001b[1;34m(self, prompt, ident, parent, password)\u001b[0m\n\u001b[0;32m   1242\u001b[0m \u001b[38;5;28;01mexcept\u001b[39;00m \u001b[38;5;167;01mKeyboardInterrupt\u001b[39;00m:\n\u001b[0;32m   1243\u001b[0m     \u001b[38;5;66;03m# re-raise KeyboardInterrupt, to truncate traceback\u001b[39;00m\n\u001b[0;32m   1244\u001b[0m     msg \u001b[38;5;241m=\u001b[39m \u001b[38;5;124m\"\u001b[39m\u001b[38;5;124mInterrupted by user\u001b[39m\u001b[38;5;124m\"\u001b[39m\n\u001b[1;32m-> 1245\u001b[0m     \u001b[38;5;28;01mraise\u001b[39;00m \u001b[38;5;167;01mKeyboardInterrupt\u001b[39;00m(msg) \u001b[38;5;28;01mfrom\u001b[39;00m \u001b[38;5;28;01mNone\u001b[39;00m\n\u001b[0;32m   1246\u001b[0m \u001b[38;5;28;01mexcept\u001b[39;00m \u001b[38;5;167;01mException\u001b[39;00m:\n\u001b[0;32m   1247\u001b[0m     \u001b[38;5;28mself\u001b[39m\u001b[38;5;241m.\u001b[39mlog\u001b[38;5;241m.\u001b[39mwarning(\u001b[38;5;124m\"\u001b[39m\u001b[38;5;124mInvalid Message:\u001b[39m\u001b[38;5;124m\"\u001b[39m, exc_info\u001b[38;5;241m=\u001b[39m\u001b[38;5;28;01mTrue\u001b[39;00m)\n",
      "\u001b[1;31mKeyboardInterrupt\u001b[0m: Interrupted by user"
     ]
    }
   ],
   "source": [
    "n = int(input())\n",
    "d = {}\n",
    "for k in range(n):\n",
    "    a,*b=input().replace(\":\", \" \").split()\n",
    "    d[a] = set()\n",
    "    if len(b) >= 1:\n",
    "        d[a] = set(b)\n",
    "#print(d)\n",
    "for k, v in d.items():\n",
    "    for k2, v2 in d.items():\n",
    "        if k in v2:\n",
    "            for i in v:\n",
    "                v2.add(i)\n",
    "#print(d)\n",
    "q = int(input())\n",
    "l = []\n",
    "for k in range(q):\n",
    "    a=input().split()\n",
    "    l.append(a)\n",
    "#print(l)\n",
    "for i in l:\n",
    "    if i[0] == i[1]:\n",
    "        print(\"Yes\")\n",
    "    elif i[0] in d[i[1]]:\n",
    "        print(\"Yes\")\n",
    "    else:\n",
    "        print(\"No\")"
   ]
  },
  {
   "cell_type": "markdown",
   "id": "6d9ed3eb",
   "metadata": {},
   "source": [
    "1.6.2"
   ]
  },
  {
   "cell_type": "code",
   "execution_count": 23,
   "id": "54533774",
   "metadata": {},
   "outputs": [],
   "source": [
    "class ExtendedStack(list):\n",
    "    \n",
    "    def sum(self):\n",
    "        k = self[-1] + self[-2]\n",
    "        self.pop()\n",
    "        self.pop()\n",
    "        self.append(k)\n",
    "        \n",
    "    def sub(self):\n",
    "        k = self[-1] - self[-2]\n",
    "        self.pop()\n",
    "        self.pop()\n",
    "        self.append(k)\n",
    "\n",
    "    def mul(self):\n",
    "        k = self[-1] * self[-2]\n",
    "        self.pop()\n",
    "        self.pop()\n",
    "        self.append(k)\n",
    "\n",
    "    def div(self):\n",
    "        k = self[-1] // self[-2]\n",
    "        self.pop()\n",
    "        self.pop()\n",
    "        self.append(k)"
   ]
  },
  {
   "cell_type": "markdown",
   "id": "ecde3c92",
   "metadata": {},
   "source": [
    "1.6.3"
   ]
  },
  {
   "cell_type": "code",
   "execution_count": 51,
   "id": "512b6800",
   "metadata": {},
   "outputs": [
    {
     "name": "stdout",
     "output_type": "stream",
     "text": [
      "Fri Dec 15 18:29:37 2023: wwww\n",
      "Fri Dec 15 18:29:37 2023: rrr\n"
     ]
    }
   ],
   "source": [
    "import time\n",
    "\n",
    "class Loggable:\n",
    "    def log(self, msg):\n",
    "        print(str(time.ctime()) + \": \" + str(msg))\n",
    "        \n",
    "class LoggableList(list, Loggable):\n",
    "    def append(self, msg):\n",
    "        super().append(msg)\n",
    "        self.log(msg)\n",
    "w = Loggable()\n",
    "w.log('wwww')\n",
    "s =LoggableList()\n",
    "s.append('rrr')"
   ]
  },
  {
   "cell_type": "markdown",
   "id": "1dce8b86",
   "metadata": {},
   "source": [
    "2.1.1"
   ]
  },
  {
   "cell_type": "code",
   "execution_count": null,
   "id": "0353ec8a",
   "metadata": {},
   "outputs": [],
   "source": [
    "try:\n",
    "    foo()\n",
    "except ZeroDivisionError:\n",
    "    print('ZeroDivisionError')\n",
    "except ArithmeticError:\n",
    "    print('ArithmeticError')\n",
    "except AssertionError:\n",
    "    print('AssertionError')"
   ]
  },
  {
   "cell_type": "markdown",
   "id": "c022ad51",
   "metadata": {},
   "source": [
    "2.1.2"
   ]
  },
  {
   "cell_type": "code",
   "execution_count": 4,
   "id": "d858bb23",
   "metadata": {},
   "outputs": [
    {
     "name": "stdout",
     "output_type": "stream",
     "text": [
      "4\n",
      "ArithmeticError\n",
      "ZeroDivisionError : ArithmeticError\n",
      "OSError\n",
      "FileNotFoundError : OSError\n",
      "4\n",
      "ZeroDivisionError\n",
      "OSError\n",
      "ArithmeticError\n",
      "FileNotFoundError\n",
      "FileNotFoundError\n"
     ]
    }
   ],
   "source": [
    "n = int(input())\n",
    "d = {}\n",
    "for k in range(n):\n",
    "    a,*b=input().replace(\":\", \" \").split()\n",
    "    d[a] = set()\n",
    "    if len(b) >= 1:\n",
    "        d[a] = set(b)\n",
    "#print(d)\n",
    "for k, v in d.items():\n",
    "    for k2, v2 in d.items():\n",
    "        if k in v2:\n",
    "            for i in v:\n",
    "                v2.add(i)\n",
    "#print(d)\n",
    "q = int(input())\n",
    "l = []\n",
    "for k in range(q):\n",
    "    a=input()\n",
    "    l.append(a)\n",
    "#print(l)\n",
    "v = []\n",
    "for i in l:\n",
    "    v.append(i)\n",
    "    for j in d[i]:  #\n",
    "        if j in v:\n",
    "            print(i)\n",
    "            break\n"
   ]
  },
  {
   "cell_type": "markdown",
   "id": "38692425",
   "metadata": {},
   "source": [
    "2.1.3"
   ]
  },
  {
   "cell_type": "code",
   "execution_count": 2,
   "id": "ceb735ea",
   "metadata": {},
   "outputs": [],
   "source": [
    "class NonPositiveError(Exception):\n",
    "    pass\n",
    "class PositiveList(list):\n",
    "    def append(self, x):\n",
    "        if x > 0:\n",
    "            super().append(x)\n",
    "        else:\n",
    "            raise NonPositiveError"
   ]
  },
  {
   "cell_type": "markdown",
   "id": "d9263ea8",
   "metadata": {},
   "source": [
    "2.2.1"
   ]
  },
  {
   "cell_type": "code",
   "execution_count": 23,
   "id": "63b97bb2",
   "metadata": {},
   "outputs": [
    {
     "name": "stdout",
     "output_type": "stream",
     "text": [
      "2014 4 20\n",
      "2\n",
      "2014-04-22\n"
     ]
    }
   ],
   "source": [
    "import datetime\n",
    "\n",
    "year, month, day = map(int, input().split())\n",
    "Date = datetime.date(year, month, day)\n",
    "d = int(input())\n",
    "print((datetime.timedelta(days=d)+Date).strftime(\"%Y %-m %-d\"))"
   ]
  },
  {
   "cell_type": "markdown",
   "id": "ecaa4d6c",
   "metadata": {},
   "source": [
    "2.3.1"
   ]
  },
  {
   "cell_type": "code",
   "execution_count": 48,
   "id": "1201a1c7",
   "metadata": {},
   "outputs": [
    {
     "name": "stdout",
     "output_type": "stream",
     "text": [
      "[2, 3, 4, 6]\n"
     ]
    }
   ],
   "source": [
    "class multifilter:\n",
    "    def judge_half(pos, neg):\n",
    "        if pos >= neg:\n",
    "            return True\n",
    "        else:\n",
    "            return False\n",
    "\n",
    "    def judge_any(pos, neg):\n",
    "        # допускает элемент, если его допускает хотя бы одна функция (pos >= 1)\n",
    "        if pos >= 1:\n",
    "            return True\n",
    "        else:\n",
    "            return False\n",
    "    def judge_all(pos, neg):\n",
    "        # допускает элемент, если его допускают все функции (neg == 0)\n",
    "        if neg == 0:\n",
    "            return True\n",
    "        else:\n",
    "            return False\n",
    "    def __init__(self, iterable, *funcs, judge=judge_any):\n",
    "        self.iterable = iterable\n",
    "        self.funcs=funcs\n",
    "        self.judge=judge\n",
    "        self.i = 0\n",
    "\n",
    "    def __iter__(self):\n",
    "         return self\n",
    "\n",
    "    def __next__(self):\n",
    "        if self.i < len(self.iterable):\n",
    "            pos = 0\n",
    "            neg = 0\n",
    "\n",
    "            for f in self.funcs:\n",
    "                if f(self.iterable[self.i]) == True:\n",
    "                    pos += 1\n",
    "                else:\n",
    "                    neg += 1\n",
    "            if self.judge(pos, neg) == True:\n",
    "                self.i += 1\n",
    "                return self.iterable[(self.i -1)]\n",
    "                #break\n",
    "                #self.i += 1\n",
    "            else:\n",
    "                self.i += 1\n",
    "                return self.__next__()\n",
    "        else:\n",
    "            raise StopIteration\n",
    "\n",
    "\n",
    "def f2(x):\n",
    "    if x % 2 == 0:\n",
    "        return True\n",
    "    else:\n",
    "        return False\n",
    "def f3(x):\n",
    "    if x % 3 == 0:\n",
    "        return True\n",
    "    else:\n",
    "        return False\n",
    "\n",
    "print(list(multifilter([1, 2, 3, 4, 5, 6], f2, f3, judge=multifilter.judge_any)))\n",
    "\n"
   ]
  },
  {
   "cell_type": "markdown",
   "id": "5d8da42f",
   "metadata": {},
   "source": [
    "2.3.2"
   ]
  },
  {
   "cell_type": "code",
   "execution_count": 21,
   "id": "dc41b3ef",
   "metadata": {},
   "outputs": [
    {
     "name": "stdout",
     "output_type": "stream",
     "text": [
      "5\n",
      "7\n",
      "7\n",
      "9\n",
      "11\n",
      "11\n",
      "11\n",
      "11\n"
     ]
    }
   ],
   "source": [
    "n=12\n",
    "for num in range(2, n+1):\n",
    "    for i in range(2, int(num/2)+1):\n",
    "        if (num % i) == 0:\n",
    "            break\n",
    "        print(num)"
   ]
  },
  {
   "cell_type": "code",
   "execution_count": 32,
   "id": "7b294177",
   "metadata": {
    "scrolled": true
   },
   "outputs": [
    {
     "name": "stdout",
     "output_type": "stream",
     "text": [
      "[2, 3, 5, 7, 11, 13, 17, 19, 23, 29, 31]\n"
     ]
    }
   ],
   "source": [
    "from itertools import takewhile\n",
    "import itertools\n",
    "def primes():\n",
    "    num = 1\n",
    "    while True:\n",
    "        num+=1\n",
    "        for i in range(2, int(num/2)+1):\n",
    "            if (num % i) == 0:\n",
    "                break\n",
    "        else:\n",
    "            yield (num)\n",
    "print(list(itertools.takewhile(lambda x : x <= 31, primes())))"
   ]
  },
  {
   "cell_type": "markdown",
   "id": "6cc15019",
   "metadata": {},
   "source": [
    "2.4.1"
   ]
  },
  {
   "cell_type": "code",
   "execution_count": 48,
   "id": "3b5ea423",
   "metadata": {},
   "outputs": [],
   "source": [
    "f = open(\"dataset_24465_4.txt\")\n",
    "g = open(\"res.txt\", 'w')\n",
    "x = f.read().splitlines()\n",
    "#x = x.splitlines()\n",
    "# x = [1, 2, 3]\n",
    "y =[i for i in reversed(x)]\n",
    "print\n",
    "t = \"\\n\".join(y)\n",
    "g.write(t)\n",
    "f.close()\n",
    "g.close()"
   ]
  },
  {
   "cell_type": "markdown",
   "id": "9b661186",
   "metadata": {},
   "source": [
    "2.4.2"
   ]
  },
  {
   "cell_type": "code",
   "execution_count": 68,
   "id": "2b2553e4",
   "metadata": {},
   "outputs": [],
   "source": [
    "import os.path\n",
    "g = open(\"sample_ans.txt\", 'w')\n",
    "for curent_dils, dils, files in os.walk(\"main\"):\n",
    "    for f in files:\n",
    "        if f.endswith(\".py\"):\n",
    "            g.write(curent_dils+\"\\n\")\n",
    "            break"
   ]
  },
  {
   "cell_type": "markdown",
   "id": "903375ee",
   "metadata": {},
   "source": [
    "2.5.1"
   ]
  },
  {
   "cell_type": "code",
   "execution_count": 4,
   "id": "74e02587",
   "metadata": {},
   "outputs": [
    {
     "name": "stdout",
     "output_type": "stream",
     "text": [
      "True\n",
      "False\n",
      "True\n"
     ]
    }
   ],
   "source": [
    "def mod_checker(x, mod=0):\n",
    "    return lambda y: y%x == mod\n",
    "mod_3 = mod_checker(3)\n",
    "\n",
    "print(mod_3(3)) # True\n",
    "print(mod_3(4)) # False\n",
    "\n",
    "mod_3_1 = mod_checker(3, 1)\n",
    "print(mod_3_1(4)) # True"
   ]
  },
  {
   "cell_type": "markdown",
   "id": "9a4d1e99",
   "metadata": {},
   "source": [
    "3.1.1"
   ]
  },
  {
   "cell_type": "code",
   "execution_count": 6,
   "id": "53b669ea",
   "metadata": {},
   "outputs": [
    {
     "name": "stdout",
     "output_type": "stream",
     "text": [
      "ababc\n",
      "c\n",
      "a\n",
      "ababa\n",
      "1\n"
     ]
    }
   ],
   "source": [
    "s = str(input())\n",
    "a = str(input())\n",
    "b = str(input())\n",
    "S = s\n",
    "i = 0\n",
    "if a !=b:\n",
    "    while a in s and i<=1000:\n",
    "        i += 1\n",
    "        s = s.replace(a, b)\n",
    "#print(s)\n",
    "if a == b and a not in S:\n",
    "    print(i)\n",
    "elif a == b and a in S:\n",
    "    print(\"Impossible\")\n",
    "elif i>=1000:\n",
    "    print(\"Impossible\")\n",
    "else:\n",
    "    #if i < 1000:\n",
    "    print(i)"
   ]
  },
  {
   "cell_type": "markdown",
   "id": "e7a66e31",
   "metadata": {},
   "source": [
    "3.1.2"
   ]
  },
  {
   "cell_type": "code",
   "execution_count": 12,
   "id": "73165faa",
   "metadata": {},
   "outputs": [
    {
     "name": "stdout",
     "output_type": "stream",
     "text": [
      "abababa\n",
      "aba\n",
      "3\n"
     ]
    }
   ],
   "source": [
    "s = str(input())\n",
    "a = str(input())\n",
    "c = 0\n",
    "for i in range(len(s)):\n",
    "    if s[i] == a[0]:\n",
    "        l = 0\n",
    "        for j in range(len(a)):\n",
    "            try:\n",
    "                if a[j] == s[i+j]:\n",
    "                    l += 1\n",
    "                else:\n",
    "                    break\n",
    "                if l == len(a):\n",
    "                    c+=1\n",
    "            except:\n",
    "                break\n",
    "    else:\n",
    "        continue\n",
    "print(c)"
   ]
  },
  {
   "cell_type": "code",
   "execution_count": 88,
   "id": "23685b85",
   "metadata": {},
   "outputs": [
    {
     "name": "stdout",
     "output_type": "stream",
     "text": [
      "b'Alice loves Bob'\n"
     ]
    }
   ],
   "source": [
    "from simplecrypt import encrypt, decrypt\n",
    "with open(\"passwords.txt\", \"r\") as p:\n",
    "    pas = p.readlines()\n",
    "pas = [i.rstrip() for i in pas]\n",
    "with open(\"encrypted.bin\", \"rb\") as inp:\n",
    "    encrypted = inp.read()\n",
    "for i in pas:\n",
    "    try:\n",
    "        dec = decrypt(str(i), encrypted)\n",
    "    except:\n",
    "        continue\n",
    "print(dec)"
   ]
  },
  {
   "cell_type": "code",
   "execution_count": 3,
   "id": "a118d6b4",
   "metadata": {},
   "outputs": [
    {
     "name": "stdout",
     "output_type": "stream",
     "text": [
      "<function match at 0x000002947A21E840>\n",
      "<function search at 0x000002947A470E00>\n",
      "<function findall at 0x000002947A471080>\n",
      "<function sub at 0x000002947A470EA0>\n"
     ]
    }
   ],
   "source": [
    "import re\n",
    "print(re.match) #Подходит ли наша строка под наш шаблон\n",
    "print(re.search) # находит первую подстроку, которая подходит под наш шаблон\n",
    "print(re.findall) # Находят все подстроки, которые подходят под наш шаблон\n",
    "print(re.sub) # заменяет все подстроки, которые подходят под шаблон на что-то другое "
   ]
  },
  {
   "cell_type": "code",
   "execution_count": 5,
   "id": "8f1c915c",
   "metadata": {},
   "outputs": [],
   "source": [
    "import sys, re\n",
    "patern = r\"cat\"\n",
    "for line in sys.stdin:\n",
    "    line = line.rstrip()\n",
    "    if len(re.findall(patern, line)) >= 2:\n",
    "        print(line)"
   ]
  },
  {
   "cell_type": "code",
   "execution_count": 6,
   "id": "2872f44f",
   "metadata": {},
   "outputs": [],
   "source": [
    "import sys, re\n",
    "patern = r\"\\b(cat)\\b\"\n",
    "for line in sys.stdin:\n",
    "    if re.search(patern, line.rstrip()) != None:\n",
    "        print(line.rstrip())\n",
    "    else:\n",
    "        None"
   ]
  },
  {
   "cell_type": "code",
   "execution_count": 49,
   "id": "a8bfa749",
   "metadata": {},
   "outputs": [],
   "source": [
    "import sys, re\n",
    "patern = r\"z\\.\\.\\.z\"\n",
    "for line in sys.stdin:\n",
    "    if re.search(patern, line.rstrip()) != None:\n",
    "        print(line.rstrip())\n",
    "    else:\n",
    "        None"
   ]
  },
  {
   "cell_type": "code",
   "execution_count": null,
   "id": "3234b359",
   "metadata": {},
   "outputs": [],
   "source": [
    "import sys, re\n",
    "patern = r\"\\\\\"\n",
    "for line in sys.stdin:\n",
    "    if re.search(patern, line.rstrip()) != None:\n",
    "        print(line.rstrip())\n",
    "    else:\n",
    "        None"
   ]
  },
  {
   "cell_type": "code",
   "execution_count": 9,
   "id": "1fa5a763",
   "metadata": {},
   "outputs": [],
   "source": [
    "import sys, re\n",
    "patern = r\"\\b(\\w+)\\1\\b\"\n",
    "for line in sys.stdin:\n",
    "    if re.search(patern, line.rstrip()) != None:\n",
    "        print(line.rstrip())\n",
    "    else:\n",
    "        None"
   ]
  },
  {
   "cell_type": "code",
   "execution_count": 18,
   "id": "00db45ad",
   "metadata": {},
   "outputs": [
    {
     "name": "stdout",
     "output_type": "stream",
     "text": [
      "computerity\n"
     ]
    }
   ],
   "source": [
    "import sys, re\n",
    "patern = r\"\\\\\"\n",
    "line = 'computerity'\n",
    "#if re.sub('human', 'computer', line)\n",
    "if re.sub('human', 'computer', line.rstrip()) != None:\n",
    "    print(line.rstrip())\n",
    "else:\n",
    "    None"
   ]
  }
 ],
 "metadata": {
  "kernelspec": {
   "display_name": "Python 3 (ipykernel)",
   "language": "python",
   "name": "python3"
  },
  "language_info": {
   "codemirror_mode": {
    "name": "ipython",
    "version": 3
   },
   "file_extension": ".py",
   "mimetype": "text/x-python",
   "name": "python",
   "nbconvert_exporter": "python",
   "pygments_lexer": "ipython3",
   "version": "3.11.5"
  }
 },
 "nbformat": 4,
 "nbformat_minor": 5
}
