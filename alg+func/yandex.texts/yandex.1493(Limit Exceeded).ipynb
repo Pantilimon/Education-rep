{
 "cells": [
  {
   "cell_type": "code",
   "execution_count": 100,
   "id": "a4e694ea",
   "metadata": {},
   "outputs": [],
   "source": [
    "def longestSubarray(nums):\n",
    "    I=[]\n",
    "    a=[]\n",
    "    A = 0\n",
    "    for i in range(len(nums)):\n",
    "        if nums[i] == 0:\n",
    "            I.append(i)\n",
    "    for i in I:\n",
    "        p = nums.copy()\n",
    "        p.pop(i)\n",
    "        a.append(p)\n",
    "    for i in a:\n",
    "        s=0\n",
    "        #print(A)\n",
    "        for j in i:\n",
    "            '''if i == [1, 1, 0, 0, 1, 1, 1, 1]:\n",
    "                print(s)'''\n",
    "            if j == 1:\n",
    "                s += 1\n",
    "            elif s>A:\n",
    "                A=s\n",
    "                s = 0\n",
    "            else:\n",
    "                s = 0\n",
    "            if s == len(i) or s>A:\n",
    "                A = s\n",
    "    if 0 not in nums:\n",
    "        return (len(nums)-1)\n",
    "    else:\n",
    "        return A"
   ]
  },
  {
   "cell_type": "code",
   "execution_count": 101,
   "id": "4f780744",
   "metadata": {},
   "outputs": [
    {
     "name": "stdout",
     "output_type": "stream",
     "text": [
      "4\n"
     ]
    }
   ],
   "source": [
    "nums = [1,1,0,0,1,1,1,0,1]\n",
    "print(longestSubarray(nums))"
   ]
  },
  {
   "cell_type": "code",
   "execution_count": null,
   "id": "08ba8a5c",
   "metadata": {},
   "outputs": [],
   "source": []
  }
 ],
 "metadata": {
  "kernelspec": {
   "display_name": "Python 3 (ipykernel)",
   "language": "python",
   "name": "python3"
  },
  "language_info": {
   "codemirror_mode": {
    "name": "ipython",
    "version": 3
   },
   "file_extension": ".py",
   "mimetype": "text/x-python",
   "name": "python",
   "nbconvert_exporter": "python",
   "pygments_lexer": "ipython3",
   "version": "3.10.9"
  }
 },
 "nbformat": 4,
 "nbformat_minor": 5
}
