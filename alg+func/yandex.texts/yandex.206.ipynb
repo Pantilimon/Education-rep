{
 "cells": [
  {
   "cell_type": "code",
   "execution_count": 19,
   "id": "4facf797",
   "metadata": {},
   "outputs": [],
   "source": [
    "# Definition for singly-linked list.\n",
    "# class ListNode:\n",
    "#     def __init__(self, val=5000, next=None):\n",
    "#         self.val = val\n",
    "#         self.next = next\n",
    "class ListNode:\n",
    "    def __init__(self, val= 5000, next = None):\n",
    "        self.val = val\n",
    "        self.next = next\n",
    "        \n"
   ]
  },
  {
   "cell_type": "code",
   "execution_count": 20,
   "id": "c041c941",
   "metadata": {},
   "outputs": [],
   "source": [
    "a = ListNode(1)\n",
    "b = ListNode(2)\n",
    "c = ListNode(3)\n",
    "d = ListNode(4)"
   ]
  },
  {
   "cell_type": "code",
   "execution_count": 21,
   "id": "9012d788",
   "metadata": {},
   "outputs": [],
   "source": [
    "a.next = b\n",
    "b.next = c\n",
    "c.next = d\n"
   ]
  },
  {
   "cell_type": "code",
   "execution_count": 22,
   "id": "242083b2",
   "metadata": {},
   "outputs": [],
   "source": [
    "def print_list(n):\n",
    "    while n:\n",
    "        print(n.val)\n",
    "        n = n.next\n",
    "    print"
   ]
  },
  {
   "cell_type": "code",
   "execution_count": 23,
   "id": "a2184733",
   "metadata": {},
   "outputs": [
    {
     "name": "stdout",
     "output_type": "stream",
     "text": [
      "1\n",
      "2\n",
      "3\n",
      "4\n"
     ]
    }
   ],
   "source": [
    "print_list(a)"
   ]
  },
  {
   "cell_type": "code",
   "execution_count": 30,
   "id": "41421491",
   "metadata": {},
   "outputs": [],
   "source": [
    "print_list(reverseList(a))"
   ]
  },
  {
   "cell_type": "code",
   "execution_count": 1,
   "id": "052286fb",
   "metadata": {},
   "outputs": [
    {
     "ename": "IndentationError",
     "evalue": "expected an indented block after class definition on line 1 (2436189869.py, line 2)",
     "output_type": "error",
     "traceback": [
      "\u001b[0;36m  Cell \u001b[0;32mIn[1], line 2\u001b[0;36m\u001b[0m\n\u001b[0;31m    def reverseList(self, head):\u001b[0m\n\u001b[0m    ^\u001b[0m\n\u001b[0;31mIndentationError\u001b[0m\u001b[0;31m:\u001b[0m expected an indented block after class definition on line 1\n"
     ]
    }
   ],
   "source": [
    "class sol():\n",
    "    def reverseList(self, head):\n",
    "        new_list = None\n",
    "        current = head\n",
    "\n",
    "        while current:\n",
    "            next_node = current.next\n",
    "            current.next = new_list\n",
    "            new_list = current\n",
    "            current = next_node\n",
    "    \n",
    "        return new_list\n",
    "\n",
    "    "
   ]
  }
 ],
 "metadata": {
  "kernelspec": {
   "display_name": "Python 3 (ipykernel)",
   "language": "python",
   "name": "python3"
  },
  "language_info": {
   "codemirror_mode": {
    "name": "ipython",
    "version": 3
   },
   "file_extension": ".py",
   "mimetype": "text/x-python",
   "name": "python",
   "nbconvert_exporter": "python",
   "pygments_lexer": "ipython3",
   "version": "3.10.9"
  }
 },
 "nbformat": 4,
 "nbformat_minor": 5
}
