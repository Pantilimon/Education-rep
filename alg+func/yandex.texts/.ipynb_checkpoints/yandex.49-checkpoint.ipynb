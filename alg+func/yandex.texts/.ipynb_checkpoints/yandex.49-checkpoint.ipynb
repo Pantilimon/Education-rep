{
 "cells": [
  {
   "cell_type": "code",
   "execution_count": 23,
   "id": "eb5f51ee",
   "metadata": {},
   "outputs": [],
   "source": [
    "def groupAnagrams(strs):\n",
    "    k = []\n",
    "    d = {}\n",
    "    a = []\n",
    "    for i in strs:\n",
    "        k.append(''.join(sorted(i)))        \n",
    "    for i in range(len(k)):\n",
    "        if k[i] not in d.keys():\n",
    "            d[k[i]] = [strs[i]]\n",
    "        else:\n",
    "            d[k[i]].append(''.join((strs[i])))\n",
    "    for i in d.keys():\n",
    "        a.append(d[i])\n",
    "    return a"
   ]
  },
  {
   "cell_type": "code",
   "execution_count": 24,
   "id": "fd031a8a",
   "metadata": {},
   "outputs": [
    {
     "name": "stdout",
     "output_type": "stream",
     "text": [
      "[['eat', 'tea', 'ate'], ['tan', 'nat'], ['bat']]\n"
     ]
    }
   ],
   "source": [
    "s = [\"eat\",\"tea\",\"tan\",\"ate\",\"nat\",\"bat\"]\n",
    "print(groupAnagrams(s))"
   ]
  }
 ],
 "metadata": {
  "kernelspec": {
   "display_name": "Python 3 (ipykernel)",
   "language": "python",
   "name": "python3"
  },
  "language_info": {
   "codemirror_mode": {
    "name": "ipython",
    "version": 3
   },
   "file_extension": ".py",
   "mimetype": "text/x-python",
   "name": "python",
   "nbconvert_exporter": "python",
   "pygments_lexer": "ipython3",
   "version": "3.10.9"
  }
 },
 "nbformat": 4,
 "nbformat_minor": 5
}
