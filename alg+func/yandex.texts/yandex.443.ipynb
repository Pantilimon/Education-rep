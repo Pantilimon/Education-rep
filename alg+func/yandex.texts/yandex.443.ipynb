{
 "cells": [
  {
   "cell_type": "code",
   "execution_count": 67,
   "id": "1d31642e",
   "metadata": {},
   "outputs": [],
   "source": [
    "c = [\"a\",\"a\",\"b\",\"b\",\"c\",\"c\",\"t\"]"
   ]
  },
  {
   "cell_type": "code",
   "execution_count": 70,
   "id": "71a916be",
   "metadata": {},
   "outputs": [],
   "source": [
    "class Solution:\n",
    "    def compress(self, chars):\n",
    "        i=0\n",
    "        count=1\n",
    "        while i<len(chars)-1:\n",
    "            if chars[i+1]==chars[i]:\n",
    "                chars.pop(i+1)\n",
    "                count+=1\n",
    "            elif count>1:\n",
    "                cc=[*str(count)]\n",
    "                for j in range(len(cc)):\n",
    "                    chars.insert(i+j+1,cc[j])\n",
    "                count=1\n",
    "                i+=len(cc)+1\n",
    "            else:\n",
    "                i+=1\n",
    "        if count>1:\n",
    "            chars+=[*str(count)]\n",
    "        return len(chars)"
   ]
  },
  {
   "cell_type": "code",
   "execution_count": 71,
   "id": "b254a8b9",
   "metadata": {},
   "outputs": [
    {
     "name": "stdout",
     "output_type": "stream",
     "text": [
      "7\n"
     ]
    }
   ],
   "source": [
    "t = Solution()\n",
    "print(t.compress(c))"
   ]
  }
 ],
 "metadata": {
  "kernelspec": {
   "display_name": "Python 3 (ipykernel)",
   "language": "python",
   "name": "python3"
  },
  "language_info": {
   "codemirror_mode": {
    "name": "ipython",
    "version": 3
   },
   "file_extension": ".py",
   "mimetype": "text/x-python",
   "name": "python",
   "nbconvert_exporter": "python",
   "pygments_lexer": "ipython3",
   "version": "3.10.9"
  }
 },
 "nbformat": 4,
 "nbformat_minor": 5
}
