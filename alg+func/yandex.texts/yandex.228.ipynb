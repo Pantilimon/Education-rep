{
 "cells": [
  {
   "cell_type": "code",
   "execution_count": 3,
   "id": "d6126b91",
   "metadata": {},
   "outputs": [],
   "source": [
    "class solutions:\n",
    "    def summaryRanges(self, nums):\n",
    "        ans = []\n",
    "        i=0\n",
    "        while i < len(nums):\n",
    "            begin = nums[i]\n",
    "            while i < len(nums)-1 and nums[i] + 1 == nums[i+1]:\n",
    "                i +=1\n",
    "            end = nums[i]\n",
    "            if begin == end:\n",
    "                ans.append(str(begin))\n",
    "            else:\n",
    "                ans.append(str(begin)+'->'+str(end))\n",
    "            i += 1\n",
    "        return ans\n",
    "            "
   ]
  },
  {
   "cell_type": "code",
   "execution_count": 4,
   "id": "32017adb",
   "metadata": {},
   "outputs": [],
   "source": [
    "b = solutions()"
   ]
  },
  {
   "cell_type": "code",
   "execution_count": 5,
   "id": "5405ded6",
   "metadata": {},
   "outputs": [
    {
     "name": "stdout",
     "output_type": "stream",
     "text": [
      "['0->2', '4->7']\n"
     ]
    }
   ],
   "source": [
    "print(b.summaryRanges(n))"
   ]
  },
  {
   "cell_type": "code",
   "execution_count": 1,
   "id": "79d2cc55",
   "metadata": {},
   "outputs": [],
   "source": [
    "n = [0,1,2,4,5,6,7]"
   ]
  }
 ],
 "metadata": {
  "kernelspec": {
   "display_name": "Python 3 (ipykernel)",
   "language": "python",
   "name": "python3"
  },
  "language_info": {
   "codemirror_mode": {
    "name": "ipython",
    "version": 3
   },
   "file_extension": ".py",
   "mimetype": "text/x-python",
   "name": "python",
   "nbconvert_exporter": "python",
   "pygments_lexer": "ipython3",
   "version": "3.10.9"
  }
 },
 "nbformat": 4,
 "nbformat_minor": 5
}
