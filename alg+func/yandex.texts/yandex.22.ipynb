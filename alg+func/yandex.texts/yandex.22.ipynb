{
 "cells": [
  {
   "cell_type": "code",
   "execution_count": null,
   "id": "ed1a220c",
   "metadata": {},
   "outputs": [],
   "source": [
    "class Solution:\n",
    "    def generateParenthesis(self, n: int) -> List[str]:\n",
    "        c = []\n",
    "        c.append(['()'])\n",
    "        for i in range(n-1):\n",
    "            c.append([])\n",
    "        for i in range(1, n):\n",
    "            for j in c[i-1]:\n",
    "                c[i].append('('+j+')')\n",
    "                c[i].append('()'+j)\n",
    "                c[i].append(j+'()')\n",
    "            c[i] = set(c[i])\n",
    "            c[i] = list(c[i])\n",
    "        return (c[n-1])"
   ]
  },
  {
   "cell_type": "code",
   "execution_count": 19,
   "id": "5b3a3916",
   "metadata": {},
   "outputs": [
    {
     "name": "stdout",
     "output_type": "stream",
     "text": [
      "['((()))()', '()()()()', '()((()))', '(())()()', '(()()())', '(((())))', '(()(()))', '()()(())', '()(())()', '(()())()', '((())())', '()(()())', '((()()))']\n",
      "['(((())))', '((()()))', '((())())', '((()))()', '(()(()))', '(()()())', '(()())()', '(())(())', '(())()()', '()((()))', '()(()())', '()(())()', '()()(())', '()()()()']\n"
     ]
    }
   ],
   "source": [
    "n = 4\n",
    "c = []\n",
    "c.append(['()'])\n",
    "for i in range(n-1):\n",
    "    c.append([])\n",
    "for i in range(1, n):\n",
    "    for j in c[i-1]:\n",
    "        c[i].append('('+j+')')\n",
    "        c[i].append('()'+j)\n",
    "        c[i].append(j+'()')\n",
    "    c[i] = set(c[i])\n",
    "    c[i] = list(c[i])\n",
    "print(c[n-1])\n",
    "print(b)\n",
    "\n",
    "    "
   ]
  },
  {
   "cell_type": "code",
   "execution_count": 26,
   "id": "d994acb7",
   "metadata": {},
   "outputs": [
    {
     "name": "stdout",
     "output_type": "stream",
     "text": [
      "13 14\n"
     ]
    }
   ],
   "source": [
    "a = set([\"(()())()\",\"()(())()\",\"((()))()\",\"(()()())\",\"((())())\",\"()()(())\",\"(())()()\",\"()(()())\",\"((()()))\",\"(((())))\",\"()((()))\",\"(()(()))\",\"()()()()\"])\n",
    "b = set([\"(((())))\",\"((()()))\",\"((())())\",\"((()))()\",\"(()(()))\",\"(()()())\",\"(()())()\",\"(())(())\",\"(())()()\",\"()((()))\",\"()(()())\",\"()(())()\",\"()()(())\",\"()()()()\"])\n",
    "print(len(a), len(b))"
   ]
  },
  {
   "cell_type": "code",
   "execution_count": 27,
   "id": "38aa6299",
   "metadata": {},
   "outputs": [
    {
     "name": "stdout",
     "output_type": "stream",
     "text": [
      "{'(())(())'}\n"
     ]
    }
   ],
   "source": [
    "print(b.difference(a))"
   ]
  }
 ],
 "metadata": {
  "kernelspec": {
   "display_name": "Python 3 (ipykernel)",
   "language": "python",
   "name": "python3"
  },
  "language_info": {
   "codemirror_mode": {
    "name": "ipython",
    "version": 3
   },
   "file_extension": ".py",
   "mimetype": "text/x-python",
   "name": "python",
   "nbconvert_exporter": "python",
   "pygments_lexer": "ipython3",
   "version": "3.10.9"
  }
 },
 "nbformat": 4,
 "nbformat_minor": 5
}
