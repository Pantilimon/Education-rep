{
 "cells": [
  {
   "cell_type": "code",
   "execution_count": 17,
   "id": "8581b59e",
   "metadata": {
    "scrolled": false
   },
   "outputs": [],
   "source": [
    "class Solution:\n",
    "    def isPalindrome(self, s):\n",
    "        import string\n",
    "        s = s.lower()\n",
    "        s = s.replace(\" \", \"\")\n",
    "        for p in string.punctuation:\n",
    "            if p in s:\n",
    "                s = s.replace(p, '')\n",
    "        r=''.join(reversed(s))\n",
    "        if s == r:\n",
    "            return True\n",
    "        else:\n",
    "            return False\n"
   ]
  },
  {
   "cell_type": "code",
   "execution_count": 18,
   "id": "eda208bb",
   "metadata": {},
   "outputs": [
    {
     "name": "stdout",
     "output_type": "stream",
     "text": [
      "False\n"
     ]
    }
   ],
   "source": [
    "def a(s):\n",
    "    import string\n",
    "    s = s.lower()\n",
    "    s = s.replace(\" \", \"\")\n",
    "    for p in string.punctuation:\n",
    "        if p in s:\n",
    "            s = s.replace(p, '')\n",
    "    r=''.join(reversed(s))\n",
    "    if s == r:\n",
    "        return True\n",
    "    else:\n",
    "        return False\n",
    "#print(s)\n",
    "#print(r)\n",
    "s = \"race a car\"\n",
    "print(a(s))"
   ]
  }
 ],
 "metadata": {
  "kernelspec": {
   "display_name": "Python 3 (ipykernel)",
   "language": "python",
   "name": "python3"
  },
  "language_info": {
   "codemirror_mode": {
    "name": "ipython",
    "version": 3
   },
   "file_extension": ".py",
   "mimetype": "text/x-python",
   "name": "python",
   "nbconvert_exporter": "python",
   "pygments_lexer": "ipython3",
   "version": "3.10.9"
  }
 },
 "nbformat": 4,
 "nbformat_minor": 5
}
