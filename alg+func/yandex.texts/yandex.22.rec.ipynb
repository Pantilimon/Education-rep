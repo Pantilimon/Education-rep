{
 "cells": [
  {
   "cell_type": "code",
   "execution_count": 10,
   "id": "67092fb6",
   "metadata": {},
   "outputs": [],
   "source": [
    "class Solution:\n",
    "    def generateParenthesis(self, n):\n",
    "        def rev(left, right, s):\n",
    "            if len(s) == 2*n:\n",
    "                res.append(s)\n",
    "                return\n",
    "\n",
    "\n",
    "            if left < n:\n",
    "                rev(left + 1, right, s+'(')\n",
    "\n",
    "\n",
    "            if right<left:\n",
    "                rev(left, right + 1, s+')')\n",
    "\n",
    "\n",
    "        res = []\n",
    "        rev(0, 0, '')\n",
    "        return res"
   ]
  }
 ],
 "metadata": {
  "kernelspec": {
   "display_name": "Python 3 (ipykernel)",
   "language": "python",
   "name": "python3"
  },
  "language_info": {
   "codemirror_mode": {
    "name": "ipython",
    "version": 3
   },
   "file_extension": ".py",
   "mimetype": "text/x-python",
   "name": "python",
   "nbconvert_exporter": "python",
   "pygments_lexer": "ipython3",
   "version": "3.10.9"
  }
 },
 "nbformat": 4,
 "nbformat_minor": 5
}
